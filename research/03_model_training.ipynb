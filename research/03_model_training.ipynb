{
 "cells": [
  {
   "cell_type": "code",
   "execution_count": 14,
   "id": "d9ff9424",
   "metadata": {},
   "outputs": [],
   "source": [
    "import os"
   ]
  },
  {
   "cell_type": "code",
   "execution_count": 15,
   "id": "fe23700e",
   "metadata": {},
   "outputs": [
    {
     "data": {
      "text/plain": [
       "'c:\\\\DANE\\\\Git Repos\\\\Kidney-Disease-Classification'"
      ]
     },
     "execution_count": 15,
     "metadata": {},
     "output_type": "execute_result"
    }
   ],
   "source": [
    "%pwd"
   ]
  },
  {
   "cell_type": "code",
   "execution_count": 3,
   "id": "776dc167",
   "metadata": {},
   "outputs": [],
   "source": [
    "os.chdir(\"../\")"
   ]
  },
  {
   "cell_type": "code",
   "execution_count": 16,
   "id": "8e7bd571",
   "metadata": {},
   "outputs": [],
   "source": [
    "from dataclasses import dataclass\n",
    "from pathlib import Path\n",
    "\n",
    "@dataclass(frozen=True)\n",
    "class TrainingConfig:\n",
    "    root_dir: Path\n",
    "    trained_model_path: Path\n",
    "    updated_base_model_path: Path\n",
    "    training_data: Path\n",
    "    params_epochs: int\n",
    "    params_batch_size: int\n",
    "    params_is_augmentation: bool\n",
    "    params_image_size: tuple"
   ]
  },
  {
   "cell_type": "code",
   "execution_count": 17,
   "id": "31bece05",
   "metadata": {},
   "outputs": [],
   "source": [
    "from cnnClassifier.constants import CONFIG_FILE_PATH, PARAMS_FILE_PATH\n",
    "from cnnClassifier.utils.common import read_yaml, create_directories\n",
    "import tensorflow as tf"
   ]
  },
  {
   "cell_type": "code",
   "execution_count": 18,
   "id": "96081f4c",
   "metadata": {},
   "outputs": [],
   "source": [
    "class ConfigurationManager:\n",
    "    def __init__(\n",
    "        self, \n",
    "        config_filepath=CONFIG_FILE_PATH, \n",
    "        params_filepath=PARAMS_FILE_PATH\n",
    "    ):\n",
    "\n",
    "        self.config = read_yaml(config_filepath)\n",
    "        self.params = read_yaml(params_filepath)\n",
    "\n",
    "    def get_training_config(self) -> TrainingConfig:\n",
    "        training = self.config.training\n",
    "        base_model = self.config.base_model\n",
    "        params = self.params\n",
    "\n",
    "        create_directories(training.root_dir)\n",
    "\n",
    "        return TrainingConfig(\n",
    "            root_dir=Path(training.root_dir),\n",
    "            trained_model_path=Path(training.trained_model_path),\n",
    "            updated_base_model_path=Path(base_model.updated_base_model_path),\n",
    "            training_data=Path(self.config.data_ingestion.unzip_dir),\n",
    "            params_epochs=params.EPOCHS,\n",
    "            params_batch_size=params.BATCH_SIZE,\n",
    "            params_is_augmentation=params.AUGMENTATION,\n",
    "            params_image_size=tuple(params.IMAGE_SIZE),\n",
    "        )"
   ]
  },
  {
   "cell_type": "code",
   "execution_count": 19,
   "id": "3d2a008e",
   "metadata": {},
   "outputs": [],
   "source": [
    "import os\n",
    "import urllib.request as request\n",
    "from zipfile import ZipFile\n",
    "import tensorflow as tf\n",
    "import time"
   ]
  },
  {
   "cell_type": "code",
   "execution_count": 20,
   "id": "df8be87c",
   "metadata": {},
   "outputs": [],
   "source": [
    "class Training:\n",
    "    def __init__(self, config: TrainingConfig):\n",
    "        self.config = config\n",
    "\n",
    "    def get_base_model(self):\n",
    "        self.model = tf.keras.models.load_model(\n",
    "            self.config.updated_base_model_path\n",
    "        )\n",
    "\n",
    "    def train_valid_generator(self):\n",
    "        img_size = self.config.params_image_size[:-1]  # (224,224)\n",
    "        batch_size = self.config.params_batch_size\n",
    "\n",
    "        # --- train dataset ---\n",
    "        self.train_generator = tf.keras.utils.image_dataset_from_directory(\n",
    "            directory=self.config.training_data,\n",
    "            labels=\"inferred\",\n",
    "            label_mode=\"categorical\",  # softmax\n",
    "            batch_size=batch_size,\n",
    "            image_size=img_size,\n",
    "            shuffle=True,\n",
    "            validation_split=0.2,\n",
    "            subset=\"training\",\n",
    "            seed=42,\n",
    "        )\n",
    "\n",
    "        # --- validation dataset ---\n",
    "        self.valid_generator = tf.keras.utils.image_dataset_from_directory(\n",
    "            directory=self.config.training_data,\n",
    "            labels=\"inferred\",\n",
    "            label_mode=\"categorical\",\n",
    "            batch_size=batch_size,\n",
    "            image_size=img_size,\n",
    "            shuffle=False,\n",
    "            validation_split=0.2,\n",
    "            subset=\"validation\",\n",
    "            seed=42,\n",
    "        )\n",
    "\n",
    "        # --- normalization ---\n",
    "        normalization_layer = tf.keras.layers.Rescaling(1.0 / 255)\n",
    "\n",
    "        self.train_generator = self.train_generator.map(\n",
    "            lambda x, y: (normalization_layer(x), y),\n",
    "            num_parallel_calls=tf.data.AUTOTUNE\n",
    "        )\n",
    "\n",
    "        self.valid_generator = self.valid_generator.map(\n",
    "            lambda x, y: (normalization_layer(x), y),\n",
    "            num_parallel_calls=tf.data.AUTOTUNE,\n",
    "        )\n",
    "\n",
    "        # --- augmentation ---\n",
    "        if self.config.params_is_augmentation:\n",
    "            data_augmentation = tf.keras.Sequential(\n",
    "                [\n",
    "                    tf.keras.layers.RandomFlip(\"horizontal\"),\n",
    "                    tf.keras.layers.RandomRotation(0.1),\n",
    "                    tf.keras.layers.RandomZoom(0.2),\n",
    "                    tf.keras.layers.RandomTranslation(0.1, 0.1)\n",
    "                ]\n",
    "            )\n",
    "\n",
    "        self.train_generator = self.train_generator.map(\n",
    "            lambda x, y: (data_augmentation(x, training=True), y),\n",
    "            num_parallel_calls=tf.data.AUTOTUNE,\n",
    "        )\n",
    "\n",
    "        # --- pipeline optimalization ---\n",
    "        self.train_generator = self.train_generator.prefetch(\n",
    "            buffer_size=tf.data.AUTOTUNE\n",
    "        )\n",
    "        self.valid_generator = self.valid_generator.prefetch(\n",
    "            buffer_size=tf.data.AUTOTUNE\n",
    "        )\n",
    "\n",
    "    @staticmethod\n",
    "    def save_model(path: Path, model: tf.keras.Model):\n",
    "        model.save(path)\n",
    "\n",
    "    def train(self):\n",
    "        self.model.fit(\n",
    "            self.train_generator,\n",
    "            epochs=self.config.params_epochs,\n",
    "            validation_data=self.valid_generator\n",
    "        )  \n",
    "\n",
    "        self.save_model(\n",
    "            path=self.config.trained_model_path,\n",
    "            model=self.model\n",
    "        )      "
   ]
  },
  {
   "cell_type": "code",
   "execution_count": 24,
   "id": "c0f3e92e",
   "metadata": {},
   "outputs": [
    {
     "name": "stdout",
     "output_type": "stream",
     "text": [
      "[2025-08-26 14:36:50,695 INFO - common : yaml file: config\\config.yaml loaded successfully]\n",
      "[2025-08-26 14:36:50,706 INFO - common : yaml file: params.yaml loaded successfully]\n",
      "[2025-08-26 14:36:50,707 INFO - common : Created directory at: artifacts/training]\n",
      "Found 7360 files belonging to 2 classes.\n",
      "Using 5888 files for training.\n",
      "Found 7360 files belonging to 2 classes.\n",
      "Using 1472 files for validation.\n",
      "Epoch 1/5\n",
      "\u001b[1m368/368\u001b[0m \u001b[32m━━━━━━━━━━━━━━━━━━━━\u001b[0m\u001b[37m\u001b[0m \u001b[1m328s\u001b[0m 890ms/step - accuracy: 0.6374 - loss: 9.7409 - val_accuracy: 0.0000e+00 - val_loss: 38.4858\n",
      "Epoch 2/5\n",
      "\u001b[1m368/368\u001b[0m \u001b[32m━━━━━━━━━━━━━━━━━━━━\u001b[0m\u001b[37m\u001b[0m \u001b[1m324s\u001b[0m 881ms/step - accuracy: 0.7298 - loss: 5.0232 - val_accuracy: 0.9212 - val_loss: 0.5207\n",
      "Epoch 3/5\n",
      "\u001b[1m368/368\u001b[0m \u001b[32m━━━━━━━━━━━━━━━━━━━━\u001b[0m\u001b[37m\u001b[0m \u001b[1m326s\u001b[0m 886ms/step - accuracy: 0.7772 - loss: 3.6550 - val_accuracy: 0.9049 - val_loss: 0.7702\n",
      "Epoch 4/5\n",
      "\u001b[1m368/368\u001b[0m \u001b[32m━━━━━━━━━━━━━━━━━━━━\u001b[0m\u001b[37m\u001b[0m \u001b[1m328s\u001b[0m 891ms/step - accuracy: 0.8045 - loss: 2.8847 - val_accuracy: 0.9973 - val_loss: 0.0047\n",
      "Epoch 5/5\n",
      "\u001b[1m368/368\u001b[0m \u001b[32m━━━━━━━━━━━━━━━━━━━━\u001b[0m\u001b[37m\u001b[0m \u001b[1m328s\u001b[0m 889ms/step - accuracy: 0.8285 - loss: 2.3225 - val_accuracy: 0.6576 - val_loss: 3.3235\n"
     ]
    }
   ],
   "source": [
    "try:\n",
    "    config = ConfigurationManager()\n",
    "    training_config = config.get_training_config()\n",
    "    training = Training(config=training_config)\n",
    "    training.get_base_model()\n",
    "    training.train_valid_generator()\n",
    "    training.train()\n",
    "\n",
    "except Exception as e:\n",
    "    raise"
   ]
  },
  {
   "cell_type": "code",
   "execution_count": null,
   "id": "80fb26e0",
   "metadata": {},
   "outputs": [],
   "source": []
  }
 ],
 "metadata": {
  "kernelspec": {
   "display_name": "cnncls",
   "language": "python",
   "name": "python3"
  },
  "language_info": {
   "codemirror_mode": {
    "name": "ipython",
    "version": 3
   },
   "file_extension": ".py",
   "mimetype": "text/x-python",
   "name": "python",
   "nbconvert_exporter": "python",
   "pygments_lexer": "ipython3",
   "version": "3.13.5"
  }
 },
 "nbformat": 4,
 "nbformat_minor": 5
}
