{
 "cells": [
  {
   "cell_type": "code",
   "execution_count": 3,
   "id": "07254040",
   "metadata": {},
   "outputs": [],
   "source": [
    "import os"
   ]
  },
  {
   "cell_type": "code",
   "execution_count": 1,
   "id": "b31b6ec9",
   "metadata": {},
   "outputs": [
    {
     "data": {
      "text/plain": [
       "'c:\\\\DANE\\\\Git Repos\\\\Kidney-Disease-Classification\\\\research'"
      ]
     },
     "execution_count": 1,
     "metadata": {},
     "output_type": "execute_result"
    }
   ],
   "source": [
    "%pwd"
   ]
  },
  {
   "cell_type": "code",
   "execution_count": 4,
   "id": "9ddb8805",
   "metadata": {},
   "outputs": [],
   "source": [
    "os.chdir(\"../\")"
   ]
  },
  {
   "cell_type": "code",
   "execution_count": 5,
   "id": "ce43db37",
   "metadata": {},
   "outputs": [
    {
     "data": {
      "text/plain": [
       "'c:\\\\DANE\\\\Git Repos\\\\Kidney-Disease-Classification'"
      ]
     },
     "execution_count": 5,
     "metadata": {},
     "output_type": "execute_result"
    }
   ],
   "source": [
    "%pwd"
   ]
  },
  {
   "cell_type": "code",
   "execution_count": 12,
   "id": "b81ca282",
   "metadata": {},
   "outputs": [],
   "source": [
    "# ============================\n",
    "# Config dataclass\n",
    "# ============================\n",
    "\n",
    "from dataclasses import dataclass\n",
    "from pathlib import Path\n",
    "\n",
    "@dataclass(frozen=True)\n",
    "class DataIngestionConfig:\n",
    "  root_dir: Path\n",
    "  source_url: str\n",
    "  local_data_file: Path\n",
    "  unzip_dir: Path"
   ]
  },
  {
   "cell_type": "code",
   "execution_count": 17,
   "id": "877c019f",
   "metadata": {},
   "outputs": [],
   "source": [
    "from cnnClassifier.constants import CONFIG_FILE_PATH, PARAMS_FILE_PATH\n",
    "from cnnClassifier.utils.common import read_yaml, create_directories, get_size\n",
    "from cnnClassifier import logger\n",
    "import gdown\n",
    "import zipfile "
   ]
  },
  {
   "cell_type": "code",
   "execution_count": 15,
   "id": "8f2f7951",
   "metadata": {},
   "outputs": [],
   "source": [
    "# ============================\n",
    "# Configuration Manager\n",
    "# ============================\n",
    "\n",
    "class ConfigurationManager:\n",
    "    def __init__(\n",
    "      self,\n",
    "      config_filepath = CONFIG_FILE_PATH,\n",
    "      params_filepath = PARAMS_FILE_PATH\n",
    "      ):\n",
    "\n",
    "        self.config = read_yaml(config_filepath)\n",
    "        self.params = read_yaml(params_filepath)\n",
    "\n",
    "        create_directories(self.config.artifacts_root)\n",
    "\n",
    "    def get_data_ingestion_config(self) -> DataIngestionConfig:\n",
    "        config = self.config.data_ingestion\n",
    "\n",
    "        create_directories(config.root_dir)\n",
    "\n",
    "        return DataIngestionConfig(\n",
    "            root_dir=config.root_dir,\n",
    "            source_url=config.source_url,\n",
    "            local_data_file=config.local_data_file,\n",
    "            unzip_dir=config.unzip_dir\n",
    "        )"
   ]
  },
  {
   "cell_type": "code",
   "execution_count": 18,
   "id": "64cd33ac",
   "metadata": {},
   "outputs": [],
   "source": [
    "# ============================\n",
    "# Data Ingestion class\n",
    "# ============================\n",
    "\n",
    "class DataIngestion:\n",
    "    def __init__(self, config: DataIngestionConfig):\n",
    "        self.config = config\n",
    "\n",
    "    def download_file(self) -> Path:\n",
    "        \"\"\"Fetch data from Google Drive URL\"\"\"\n",
    "\n",
    "        dataset_url = self.config.source_url\n",
    "        zip_download_path = Path(self.config.local_data_file)\n",
    "\n",
    "        os.makedirs(zip_download_path.parent, exist_ok=True)\n",
    "\n",
    "        logger.info(\n",
    "            f\"Downloading data from {dataset_url} into file {zip_download_path}\"\n",
    "        )\n",
    "\n",
    "        try:\n",
    "            file_id = dataset_url.split(\"/\")[-2]\n",
    "            prefix = \"https://drive.google.com/uc?/export=download&id=\"\n",
    "            gdown.download(prefix + file_id, str(zip_download_path), quiet=False)\n",
    "        except Exception as e:\n",
    "            logger.error(f\"Failed to download file from {dataset_url}: {e}\")\n",
    "            raise\n",
    "\n",
    "        logger.info(f\"Downloaded file size: {get_size(zip_download_path)}\")\n",
    "        return zip_download_path\n",
    "\n",
    "    def extract_zip_file(self) -> None:\n",
    "        \"\"\"Extracts the downloaded ZIP file into the target directory\"\"\"\n",
    "\n",
    "        unzip_path = Path(self.config.unzip_dir)\n",
    "        os.makedirs(unzip_path, exist_ok=True)\n",
    "\n",
    "        logger.info(f\"Extracting {self.config.local_data_file} into {unzip_path}\")\n",
    "\n",
    "        try:\n",
    "            with zipfile.ZipFile(self.config.local_data_file, \"r\") as zip_ref:\n",
    "                zip_ref.extractall(unzip_path)\n",
    "        except zipfile.BadZipFile as e:\n",
    "            logger.error(f\"Corrupted zip file {self.config.local_data_file}: {e}\")\n",
    "            raise\n",
    "        except Exception as e:\n",
    "            logger.error(\n",
    "                f\"Failed to extract zip file {self.config.local_data_file}: {e}\"\n",
    "            )\n",
    "            raise\n",
    "\n",
    "        logger.info(f\"Extraction completed successfully: {unzip_path}\")"
   ]
  },
  {
   "cell_type": "code",
   "execution_count": null,
   "id": "9efe0294",
   "metadata": {},
   "outputs": [
    {
     "name": "stdout",
     "output_type": "stream",
     "text": [
      "[2025-08-25 15:37:59,222 INFO - common : yaml file: config\\config.yaml loaded successfully]\n",
      "[2025-08-25 15:37:59,225 INFO - common : yaml file: params.yaml loaded successfully]\n",
      "[2025-08-25 15:37:59,226 INFO - common : Created directory at: artifacts]\n",
      "[2025-08-25 15:37:59,226 INFO - common : Created directory at: artifacts/data_ingestion]\n"
     ]
    }
   ],
   "source": [
    "# ============================\n",
    "# Pipeline execution\n",
    "# ============================\n",
    "if __name__ == \"__main__\":\n",
    "    try:\n",
    "        config_manager = ConfigurationManager()\n",
    "        data_ingestion_config = config_manager.get_data_ingestion_config()\n",
    "        data_ingestion = DataIngestion(config=data_ingestion_config)\n",
    "\n",
    "        zip_file = data_ingestion.download_file()\n",
    "        data_ingestion.extract_zip_file()\n",
    "    except Exception as e:\n",
    "        logger.exception(f\"Data ingestion pipeline failed: {e}\")\n",
    "        raise"
   ]
  },
  {
   "cell_type": "code",
   "execution_count": null,
   "id": "15132f5e",
   "metadata": {},
   "outputs": [],
   "source": []
  }
 ],
 "metadata": {
  "kernelspec": {
   "display_name": "Python 3",
   "language": "python",
   "name": "python3"
  },
  "language_info": {
   "codemirror_mode": {
    "name": "ipython",
    "version": 3
   },
   "file_extension": ".py",
   "mimetype": "text/x-python",
   "name": "python",
   "nbconvert_exporter": "python",
   "pygments_lexer": "ipython3",
   "version": "3.13.5"
  }
 },
 "nbformat": 4,
 "nbformat_minor": 5
}
